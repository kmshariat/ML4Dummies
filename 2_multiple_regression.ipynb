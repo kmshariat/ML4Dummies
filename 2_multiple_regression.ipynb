{
 "cells": [
  {
   "cell_type": "markdown",
   "metadata": {},
   "source": [
    "<h1 align='center'> বাংলায় মেশিন লার্নিংঃ মাল্টিপল ফিচার লিনিয়ার রিগ্রেশন </h1>\n",
    "<p align='center'> K M Shariat Ullah <br> Student, Dept. of Electrical and Electronic Engineering, Shahjalal University of Science and Technology, Sylhet <br> E-mail: cast.shariat@gamil.com </p>"
   ]
  },
  {
   "cell_type": "markdown",
   "metadata": {},
   "source": [
    "আগের নোটবুকে আমরা দেখেছিলাম যদি ফিচার কেবলমাত্র একটি হয় ($x$) তবে মডেল $\\hat{y} = wx + b$। কিন্তু বাস্তবে তো কেবলমাত্র একটি ফিচার থাকা দুস্কর। কোনো একটি আউটপুটকে প্রভাবিত করতে পারে এমন ফ্যাক্টরের সংখ্যা একাধিক হবে এটাই স্বাভাবিক। যেমন নিচে আমরা একটি বাড়ির সাইজ, বেডরুমের সংখ্যা, ফ্লোরের সংখ্যা, বাড়ির বয়সের উপর ভিত্তি করে বাড়ির প্রাইজ দেখতে পাচ্ছি। আমাদেরকে এখন এই ফিচারগুলোর উপর ভিত্তি করে একটি মডেল তৈরি করতে হবে যাতে আমরা যে কোনো সাইজের বা যে কোনো বয়সের বাড়ির জন্য বা অন্য কোনো ফিচারের পার্টিকুলার মানের জন্য বাড়ির দাম কত হবে তা প্রেডিক্ট করতে পারে।"
   ]
  },
  {
   "cell_type": "code",
   "execution_count": 2,
   "metadata": {},
   "outputs": [],
   "source": [
    "import pandas as pd\n",
    "import matplotlib.pyplot as plt\n",
    "import numpy as np"
   ]
  },
  {
   "cell_type": "code",
   "execution_count": 3,
   "metadata": {},
   "outputs": [
    {
     "data": {
      "text/html": [
       "<div>\n",
       "<style scoped>\n",
       "    .dataframe tbody tr th:only-of-type {\n",
       "        vertical-align: middle;\n",
       "    }\n",
       "\n",
       "    .dataframe tbody tr th {\n",
       "        vertical-align: top;\n",
       "    }\n",
       "\n",
       "    .dataframe thead th {\n",
       "        text-align: right;\n",
       "    }\n",
       "</style>\n",
       "<table border=\"1\" class=\"dataframe\">\n",
       "  <thead>\n",
       "    <tr style=\"text-align: right;\">\n",
       "      <th></th>\n",
       "      <th>size</th>\n",
       "      <th>bedroom</th>\n",
       "      <th>floor</th>\n",
       "      <th>age</th>\n",
       "      <th>price</th>\n",
       "    </tr>\n",
       "  </thead>\n",
       "  <tbody>\n",
       "    <tr>\n",
       "      <th>0</th>\n",
       "      <td>2104</td>\n",
       "      <td>5</td>\n",
       "      <td>1</td>\n",
       "      <td>45</td>\n",
       "      <td>460</td>\n",
       "    </tr>\n",
       "    <tr>\n",
       "      <th>1</th>\n",
       "      <td>1416</td>\n",
       "      <td>3</td>\n",
       "      <td>2</td>\n",
       "      <td>40</td>\n",
       "      <td>232</td>\n",
       "    </tr>\n",
       "    <tr>\n",
       "      <th>2</th>\n",
       "      <td>1534</td>\n",
       "      <td>3</td>\n",
       "      <td>2</td>\n",
       "      <td>30</td>\n",
       "      <td>315</td>\n",
       "    </tr>\n",
       "    <tr>\n",
       "      <th>3</th>\n",
       "      <td>852</td>\n",
       "      <td>2</td>\n",
       "      <td>1</td>\n",
       "      <td>36</td>\n",
       "      <td>178</td>\n",
       "    </tr>\n",
       "  </tbody>\n",
       "</table>\n",
       "</div>"
      ],
      "text/plain": [
       "   size  bedroom  floor  age  price\n",
       "0  2104        5      1   45    460\n",
       "1  1416        3      2   40    232\n",
       "2  1534        3      2   30    315\n",
       "3   852        2      1   36    178"
      ]
     },
     "execution_count": 3,
     "metadata": {},
     "output_type": "execute_result"
    }
   ],
   "source": [
    "data = pd.read_csv('multiple_feature_house.csv')\n",
    "data"
   ]
  },
  {
   "cell_type": "markdown",
   "metadata": {},
   "source": [
    "এখানে আমাদের ফিচার চারটি <br>\n",
    "\n",
    "$x_1$ : `Size of the Home` <br>\n",
    "$x_2$ : `No. of Bedrooms` <br>\n",
    "$x_3$ : `No. of Floors` <br>\n",
    "$x_4$ : `Age of Home` <br>\n",
    "\n",
    "আর এখানে টার্গেট একটি <br>\n",
    "\n",
    "$y$ : `Price in USD 1000`\n",
    "\n",
    "যদি আমরা একটি সরলরেখৈক মডেল বানাতে চাই তাহলে সকল ফিচারের পাওয়ার হতে হবে 1 অর্থাৎ লিনিয়ার রিগ্রেশন। আগেরটার সাথে এখানে পার্থক্য হচ্ছে শুধু এ জায়গায় যে সেখানে ফিচার ছিল একটা, এখানে একাধিক। তাহলে এখানে আমাদের মডেলটি হবে - \n",
    "\n",
    "$$f_{w_i,b}(x_i) = w_1 x_1 + w_2 x_2 + w_3 x_3 + w_4 x_4 + b \\tag{1}$$\n",
    "\n",
    "weight দিয়ে মূলত কী বুঝায় তা নিয়ে আরেকটু ইনটুইটিভ আলোচনা করা উচিত বলে মনে হচ্ছে। weight মূলত কোন ফিচারের প্রভাব কেমন তা বুঝাতে ব্যবহার করা হয়। যেমন ধরেন আপনাদের থিওরি কোর্সের weight ল্যাব কোর্সের থেকে বেশি। weight মানে এখানে গুরুত্ববহ বেশি এটা বোঝানো হচ্ছে। তাই থিওরি কোর্সের Credit 3 আর ল্যাব কোর্সের Credit 1.5। তো যেই কোর্সের weight বেশি তার প্রভাব বেশি থাকবে বা সেটি আউটপুট তৈরিতে অন্যদের থেকে বেশি গুরুত্বপূর্ণ। যেমন উপরের চার ফিচারের জন্য আমরা পার্টিকুলারলি একটা মডেল কল্পনা করতে পারি - \n",
    "\n",
    "$$ f_{w_i,b}(x_i) = 0.1 x_1 + 4x_2 + 10 x_3 - 2x_4 + 80 $$\n",
    "\n",
    "এই মডেলটি থেকে কিছু বিষয় উদ্ধার করে নেই আগে - \n",
    "\n",
    "<ul>\n",
    "    <li>যদি কোনো বেডরুম না থাকে, কোনো ফ্লোর না থাকে, বাড়ির কোনো বয়স নেই, বাড়ির কোনো সাইজও নেই অর্থাৎ $x_1 = x_2 = x_3 = x_4 = 0$ তাহলে ঐ বাড়িটির দাম হবে ৮০ হাজার ডলার। এটাই b এর মান, তুলনা করে দেখেন</li>\n",
    "    <li> বেডরুমের সংখ্যার সাথে 10 আছে ওয়েট হিসেবে। অন্যদিকে ফ্লোরের সংখ্যার সাথে 4 আছে ওয়েট হিসেবে। এ থেকে একটু তুলনা করেন। অর্থাৎ ফ্লোরের সংখ্যা যদি একটা বৃদ্ধি পায় তাহলে বাড়ির প্রাইজ চারগুণ হবে। আর যদি একটা বেডরুমের সংখ্যা বৃদ্ধি পায় তাহলে বাড়ির প্রাইজ দশগুণ বৃদ্ধি পাবে। এখানে তাহলে বেডরুমের সংখ্যাটা কততলা বাড়ি তার থেকেও বেশি গুরুত্বপূর্ণ। এজন্যই বেডরুমের সংখ্যার জন্য বড় ওয়েট নেওয়া হয়েছে। \n",
    "</ul>"
   ]
  },
  {
   "cell_type": "markdown",
   "metadata": {},
   "source": [
    "#### Vectorization\n",
    "\n",
    "যখন এধরণের একাধিক ফিচার নিয়ে মডেল তৈরি করা হবে তখন আমরা ভেক্টরাইজেশন নামে একটি পদ্ধতি অ্যাপ্লাই করব। এর জন্য আমরা দুইটা ভেক্টর $\\vec{x}$ ও $\\vec{w}$ সঙ্গায়িত করব। উপরের মডেলটির জন্য এ দুটি ভেক্টরকে এভাবে লেখা হবে - \n",
    "\n",
    "$$\\vec{x} =  \\begin{bmatrix} x_1 & x_2 & x_3 & x_4 \\end{bmatrix} $$\n",
    "$$\\vec{w} =  \\begin{bmatrix} 0.1 & 4 & 10 & -2 \\end{bmatrix} $$\n",
    "\n",
    "এমন ক্ষেত্রে আমাদের মডেলটিকে লেখা হবে এভাবে - \n",
    "\n",
    "$$f(\\vec{w},\\vec{x})=\\vec{w} \\cdot \\vec{x} + b \\tag{2}$$\n",
    "\n",
    "ভেক্টরাইজেশন করার পর আগের পদ্ধতিতেই আমরা গ্র্যাডিয়েন্ট ডিসেন্ট করে কস্ট ফাংশনকে মিনিমাম করে এমন কিছু ওয়েট ও বায়াসের মান বের করব। "
   ]
  },
  {
   "cell_type": "code",
   "execution_count": 4,
   "metadata": {},
   "outputs": [],
   "source": [
    "x_train = np.array([\n",
    "    [2104, 1416, 1534, 852],\n",
    "    [5, 3, 3, 2],\n",
    "    [1, 2, 2, 1],\n",
    "    [45, 40, 30, 36]\n",
    "])\n",
    "\n",
    "y_train = np.array([460, 232, 315, 178])"
   ]
  },
  {
   "cell_type": "code",
   "execution_count": 10,
   "metadata": {},
   "outputs": [
    {
     "data": {
      "text/plain": [
       "array([19590.4,   118.5,   106.1,   472.5])"
      ]
     },
     "execution_count": 10,
     "metadata": {},
     "output_type": "execute_result"
    }
   ],
   "source": [
    "b_init = 80.\n",
    "w_init = np.array([0.1, 4, 10, -2])\n",
    "\n",
    "y = np.dot(x_train, w_init) + b_init\n",
    "y"
   ]
  },
  {
   "cell_type": "markdown",
   "metadata": {},
   "source": [
    "#### Cost Function"
   ]
  },
  {
   "cell_type": "code",
   "execution_count": 12,
   "metadata": {},
   "outputs": [
    {
     "data": {
      "text/plain": [
       "45764431.98375"
      ]
     },
     "execution_count": 12,
     "metadata": {},
     "output_type": "execute_result"
    }
   ],
   "source": [
    "m,n = np.shape(x_train)\n",
    "cost = 0\n",
    "for i in range(m):\n",
    "    y_hat = np.dot(x_train[i],w_init) + b_init \n",
    "    cost = cost + (y_hat - y_train[i])**2\n",
    "\n",
    "cost = cost/(2*m)\n",
    "cost "
   ]
  },
  {
   "cell_type": "markdown",
   "metadata": {},
   "source": [
    "#### Gradient Descent"
   ]
  },
  {
   "cell_type": "code",
   "execution_count": 18,
   "metadata": {},
   "outputs": [
    {
     "data": {
      "text/plain": [
       "(array([-5.69698474e+19, -3.83472387e+19, -4.15341717e+19, -2.30810870e+19]),\n",
       " -2.779688721683911e+16)"
      ]
     },
     "execution_count": 18,
     "metadata": {},
     "output_type": "execute_result"
    }
   ],
   "source": [
    "m,n = np.shape(x_train)        \n",
    "dj_dw = np.zeros((n,))\n",
    "dj_db = 0.\n",
    "a = 0.01\n",
    "\n",
    "for i in range(m):\n",
    "    error = np.dot(x_train[i],w_init) + b_init - y_train[i]\n",
    "    for j in range(n):\n",
    "        dj_dw[j] = dj_dw[j] + error * x_train[i, j]\n",
    "    dj_db = dj_db + error\n",
    "dj_dw = dj_dw/m\n",
    "dj_db = dj_db/m\n",
    "w_init = w_init - a * dj_dw\n",
    "b_init = b_init - a * dj_db\n",
    "\n",
    "w_init, b_init"
   ]
  }
 ],
 "metadata": {
  "kernelspec": {
   "display_name": "Python 3",
   "language": "python",
   "name": "python3"
  },
  "language_info": {
   "codemirror_mode": {
    "name": "ipython",
    "version": 3
   },
   "file_extension": ".py",
   "mimetype": "text/x-python",
   "name": "python",
   "nbconvert_exporter": "python",
   "pygments_lexer": "ipython3",
   "version": "3.12.2"
  }
 },
 "nbformat": 4,
 "nbformat_minor": 2
}
